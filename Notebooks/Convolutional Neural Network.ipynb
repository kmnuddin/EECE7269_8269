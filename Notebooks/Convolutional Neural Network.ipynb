{
 "cells": [
  {
   "cell_type": "markdown",
   "id": "a965a913",
   "metadata": {},
   "source": [
    "## History\n",
    "\n",
    "The history of Convolutional Neural Networks (CNNs) can be traced back to the development of artificial neural networks and their connection to the biological visual cortex. Here are some significant milestones in the development of CNNs:\n",
    "\n",
    "1. **1959 - Hubel and Wiesel's experiments:** The neurophysiologists David Hubel and Torsten Wiesel conducted experiments on the visual cortex of cats, discovering simple and complex cells. Simple cells responded primarily to oriented edges and bars, while complex cells exhibited spatial invariance.\n",
    "\n",
    "\n",
    "2. **1980 - Neocognitron:** Inspired by Hubel and Wiesel's work, Kunihiko Fukushima developed the Neocognitron, a hierarchical, multilayered artificial neural network. It had alternating convolutional and downsampling (pooling) layers, which formed the basis for modern CNNs.\n",
    "\n",
    "\n",
    "3. **1989 - LeNet-1:** Yann LeCun developed LeNet-1, the first practical implementation of a CNN for handwritten character recognition. The network used backpropagation for training and introduced the concept of shared weights in the convolutional layers.\n",
    "\n",
    "\n",
    "4. **1998 - LeNet-5:** LeCun and his team improved upon their previous work and proposed LeNet-5, which became a widely adopted CNN for digit recognition tasks. It was used for reading zip codes, digits, and handwriting on checks.\n",
    "\n",
    "\n",
    "5. **2006 - Deep Learning Revolution:** Geoff Hinton and his collaborators introduced the concept of deep learning, which led to a renewed interest in CNNs and other deep neural network architectures.\n",
    "\n",
    "\n",
    "6. **2012 - AlexNet:** Alex Krizhevsky, Ilya Sutskever, and Geoff Hinton developed AlexNet, a deeper and wider CNN that significantly outperformed other models in the ImageNet Large Scale Visual Recognition Challenge (ILSVRC). This marked the beginning of the modern deep learning era, as CNNs became the go-to choice for image recognition tasks.\n",
    "\n",
    "\n",
    "7. **2014 - VGG, GoogLeNet:** Researchers developed deeper and more complex CNN architectures, such as VGGNet by the Visual Geometry Group at Oxford and GoogLeNet (Inception) by researchers at Google. These architectures achieved even better performance on image classification tasks.\n",
    "\n",
    "\n",
    "8. **2015 - ResNet:** Kaiming He and his team from Microsoft Research introduced ResNet (Residual Network), which employed residual connections (skip connections) to enable the training of very deep networks with hundreds of layers. ResNet won the ILSVRC in 2015 and set new records in image classification and object detection.\n",
    "\n",
    "Since then, CNNs have continued to evolve, and researchers have developed numerous variants and improvements. Today, CNNs are used in a wide range of applications, such as image recognition, object detection, video analysis, and more.\n",
    "\n",
    "## Convolution\n",
    "\n",
    "In the context of Convolutional Neural Networks (CNNs), convolution refers to a mathematical operation that combines an input (usually an image or a feature map) with a filter (also called a kernel) to produce a transformed output called a feature map or convolved feature. This operation is performed to extract useful features, such as edges, textures, or patterns, from the input data. Convolution is the primary building block of CNNs and is what makes them particularly well-suited for image and pattern recognition tasks.\n",
    "\n",
    "\n",
    "Let's denote the input feature map as $I$ and the filter (kernel) as $K$. The dimensions of $I$ are $(W, H)$ and the dimensions of $K$ are $(F_w, F_h)$. The resulting output feature map, $O$, will have dimensions $(W - F_w + 1, H - F_h + 1)$ if we use a stride of 1 and no padding.\n",
    "\n",
    "For each position $(i, j)$ in the output feature map $O$, the value is computed as:\n",
    "\n",
    "$$O(i, j) = \\sum_{m=0}^{F_w-1} \\sum_{n=0}^{F_h-1} I(i+m, j+n) \\cdot K(m, n)$$\n",
    "\n",
    "Here, the double summation represents the element-wise multiplication and summation of the overlapping regions of the input feature map $I$ and the filter $K$.\n",
    "\n",
    "![Alt Text](ImpartialDecimalBarnswallow-max-1mb.gif)\n",
    "\n",
    "If we use a stride of $S$ and padding of $P$, the dimensions of the output feature map $O$ will change to:\n",
    "\n",
    "$$O_w = \\frac{(W - F_w + 2*P)}{S} + 1$$\n",
    "\n",
    "\n",
    "$$O_h = (H - F_h + 2*P) / S + 1$$\n",
    "\n",
    "\n",
    "## LeNet-5\n",
    "\n",
    "![Alt Text](lenet5.png)\n",
    "\n",
    "\n",
    "The architecture of LeNet-5 consists of seven layers, including the input layer. Here is a brief overview of each layer:\n",
    "\n",
    "1. **Input layer:** This layer accepts a grayscale image of size 32x32 pixels. The original images were of size 28x28 pixels, but they were padded to 32x32 pixels to allow the first convolutional layer to detect features on the edges of the image.\n",
    "\n",
    "2. **C1 (Convolutional layer):** The first convolutional layer has six kernels (filters) of size 5x5. The layer applies these filters to the input image, resulting in six feature maps of size 28x28. The activation function used in this layer is typically hyperbolic tangent (tanh) or sigmoid.\n",
    "\n",
    "3. **S2 (Pooling layer):** This layer, also known as subsampling or downsampling layer, follows the first convolutional layer. It has six 2x2 pooling kernels with a stride of 2. The pooling operation can be average or max pooling. After applying the pooling operation, the output feature maps have a size of 14x14.\n",
    "\n",
    "4. **C3 (Convolutional layer):** The second convolutional layer has 16 kernels of size 5x5. The layer applies these filters to the pooled feature maps from the previous layer, resulting in 16 output feature maps of size 10x10. Again, the activation function used in this layer is typically tanh or sigmoid.\n",
    "\n",
    "5. **S4 (Pooling layer):** This layer is similar to the S2 layer, but it operates on the 16 feature maps from the C3 layer. It has sixteen 2x2 pooling kernels with a stride of 2, and the output feature maps have a size of 5x5.\n",
    "\n",
    "6. **C5 (Convolutional layer):** The third convolutional layer has 120 kernels of size 5x5. Since the input feature maps are also 5x5, this layer acts as a fully connected layer. The output is a single feature map of size 1x1 with 120 channels.\n",
    "\n",
    "7. **F6 (Fully connected layer):** This layer has 84 neurons that are fully connected to the 120 channels from the C5 layer. The activation function used is usually tanh or sigmoid.\n",
    "\n",
    "8. **Output layer:** The output layer is a fully connected layer with a number of neurons equal to the number of classes in the classification task (e.g., 10 neurons for digit recognition). This layer typically uses the softmax activation function to produce class probabilities."
   ]
  },
  {
   "cell_type": "code",
   "execution_count": 25,
   "id": "8ea0f288",
   "metadata": {},
   "outputs": [],
   "source": [
    "import tensorflow as tf\n",
    "from tensorflow.keras import layers, models\n",
    "from tensorflow.keras.datasets import mnist\n",
    "from tensorflow.keras.utils import to_categorical\n",
    "\n",
    "from sklearn.metrics import classification_report, confusion_matrix\n",
    "\n",
    "import matplotlib.pyplot as plt\n",
    "import seaborn as sns\n",
    "import numpy as np"
   ]
  },
  {
   "cell_type": "code",
   "execution_count": 2,
   "id": "22ae7f6d",
   "metadata": {},
   "outputs": [],
   "source": [
    "# Load and preprocess the MNIST dataset\n",
    "(X_train, y_train), (X_test, y_test) = mnist.load_data()\n",
    "\n",
    "X_train = X_train.reshape(-1, 28, 28, 1).astype('float32') / 255\n",
    "X_test = X_test.reshape(-1, 28, 28, 1).astype('float32') / 255\n",
    "\n",
    "y_train = to_categorical(y_train, 10)\n",
    "y_test = to_categorical(y_test, 10)"
   ]
  },
  {
   "cell_type": "code",
   "execution_count": 3,
   "id": "1fffce0d",
   "metadata": {},
   "outputs": [
    {
     "name": "stdout",
     "output_type": "stream",
     "text": [
      "Epoch 1/50\n",
      "469/469 [==============================] - 1s 3ms/step - loss: 0.3362 - accuracy: 0.9013 - val_loss: 0.1487 - val_accuracy: 0.9538\n",
      "Epoch 2/50\n",
      "469/469 [==============================] - 1s 3ms/step - loss: 0.1253 - accuracy: 0.9619 - val_loss: 0.0936 - val_accuracy: 0.9702\n",
      "Epoch 3/50\n",
      "469/469 [==============================] - 1s 3ms/step - loss: 0.0827 - accuracy: 0.9747 - val_loss: 0.0669 - val_accuracy: 0.9795\n",
      "Epoch 4/50\n",
      "469/469 [==============================] - 1s 3ms/step - loss: 0.0622 - accuracy: 0.9808 - val_loss: 0.0587 - val_accuracy: 0.9810\n",
      "Epoch 5/50\n",
      "469/469 [==============================] - 1s 3ms/step - loss: 0.0476 - accuracy: 0.9856 - val_loss: 0.0545 - val_accuracy: 0.9826\n",
      "Epoch 6/50\n",
      "469/469 [==============================] - 1s 3ms/step - loss: 0.0391 - accuracy: 0.9876 - val_loss: 0.0509 - val_accuracy: 0.9844\n",
      "Epoch 7/50\n",
      "469/469 [==============================] - 1s 3ms/step - loss: 0.0326 - accuracy: 0.9898 - val_loss: 0.0522 - val_accuracy: 0.9836\n",
      "Epoch 8/50\n",
      "469/469 [==============================] - 1s 3ms/step - loss: 0.0271 - accuracy: 0.9913 - val_loss: 0.0534 - val_accuracy: 0.9845\n",
      "Epoch 9/50\n",
      "469/469 [==============================] - 1s 3ms/step - loss: 0.0233 - accuracy: 0.9924 - val_loss: 0.0453 - val_accuracy: 0.9860\n",
      "Epoch 10/50\n",
      "469/469 [==============================] - 1s 3ms/step - loss: 0.0174 - accuracy: 0.9945 - val_loss: 0.0591 - val_accuracy: 0.9814\n",
      "Epoch 11/50\n",
      "469/469 [==============================] - 1s 3ms/step - loss: 0.0162 - accuracy: 0.9951 - val_loss: 0.0491 - val_accuracy: 0.9850\n",
      "Epoch 12/50\n",
      "469/469 [==============================] - 1s 3ms/step - loss: 0.0163 - accuracy: 0.9945 - val_loss: 0.0533 - val_accuracy: 0.9836\n",
      "Epoch 13/50\n",
      "469/469 [==============================] - 1s 3ms/step - loss: 0.0107 - accuracy: 0.9967 - val_loss: 0.0474 - val_accuracy: 0.9869\n",
      "Epoch 14/50\n",
      "469/469 [==============================] - 1s 3ms/step - loss: 0.0090 - accuracy: 0.9975 - val_loss: 0.0485 - val_accuracy: 0.9870\n",
      "Epoch 15/50\n",
      "469/469 [==============================] - 1s 3ms/step - loss: 0.0090 - accuracy: 0.9973 - val_loss: 0.0518 - val_accuracy: 0.9856\n",
      "Epoch 16/50\n",
      "469/469 [==============================] - 1s 3ms/step - loss: 0.0112 - accuracy: 0.9963 - val_loss: 0.0477 - val_accuracy: 0.9853\n",
      "Epoch 17/50\n",
      "469/469 [==============================] - 1s 3ms/step - loss: 0.0075 - accuracy: 0.9978 - val_loss: 0.0526 - val_accuracy: 0.9864\n",
      "Epoch 18/50\n",
      "469/469 [==============================] - 1s 3ms/step - loss: 0.0077 - accuracy: 0.9979 - val_loss: 0.0518 - val_accuracy: 0.9850\n",
      "Epoch 19/50\n",
      "469/469 [==============================] - 1s 3ms/step - loss: 0.0078 - accuracy: 0.9973 - val_loss: 0.0502 - val_accuracy: 0.9858\n",
      "Epoch 20/50\n",
      "469/469 [==============================] - 1s 3ms/step - loss: 0.0035 - accuracy: 0.9991 - val_loss: 0.0500 - val_accuracy: 0.9863\n",
      "Epoch 21/50\n",
      "469/469 [==============================] - 1s 3ms/step - loss: 0.0049 - accuracy: 0.9985 - val_loss: 0.0612 - val_accuracy: 0.9849\n",
      "Epoch 22/50\n",
      "469/469 [==============================] - 1s 3ms/step - loss: 0.0081 - accuracy: 0.9971 - val_loss: 0.0614 - val_accuracy: 0.9847\n",
      "Epoch 23/50\n",
      "469/469 [==============================] - 1s 3ms/step - loss: 0.0048 - accuracy: 0.9985 - val_loss: 0.0546 - val_accuracy: 0.9856\n",
      "Epoch 24/50\n",
      "469/469 [==============================] - 1s 3ms/step - loss: 0.0052 - accuracy: 0.9985 - val_loss: 0.0556 - val_accuracy: 0.9867\n",
      "Epoch 25/50\n",
      "469/469 [==============================] - 1s 3ms/step - loss: 0.0052 - accuracy: 0.9985 - val_loss: 0.0456 - val_accuracy: 0.9882\n",
      "Epoch 26/50\n",
      "469/469 [==============================] - 1s 3ms/step - loss: 0.0019 - accuracy: 0.9995 - val_loss: 0.0494 - val_accuracy: 0.9884\n",
      "Epoch 27/50\n",
      "469/469 [==============================] - 1s 3ms/step - loss: 0.0028 - accuracy: 0.9993 - val_loss: 0.0525 - val_accuracy: 0.9867\n",
      "Epoch 28/50\n",
      "469/469 [==============================] - 1s 3ms/step - loss: 0.0058 - accuracy: 0.9982 - val_loss: 0.0657 - val_accuracy: 0.9849\n",
      "Epoch 29/50\n",
      "469/469 [==============================] - 1s 3ms/step - loss: 0.0056 - accuracy: 0.9982 - val_loss: 0.0593 - val_accuracy: 0.9852\n",
      "Epoch 30/50\n",
      "469/469 [==============================] - 1s 3ms/step - loss: 0.0020 - accuracy: 0.9995 - val_loss: 0.0486 - val_accuracy: 0.9877\n",
      "Epoch 31/50\n",
      "469/469 [==============================] - 1s 3ms/step - loss: 5.6044e-04 - accuracy: 0.9999 - val_loss: 0.0485 - val_accuracy: 0.9880\n",
      "Epoch 32/50\n",
      "469/469 [==============================] - 1s 3ms/step - loss: 2.3668e-04 - accuracy: 1.0000 - val_loss: 0.0449 - val_accuracy: 0.9887\n",
      "Epoch 33/50\n",
      "469/469 [==============================] - 1s 3ms/step - loss: 1.5152e-04 - accuracy: 1.0000 - val_loss: 0.0458 - val_accuracy: 0.9888\n",
      "Epoch 34/50\n",
      "469/469 [==============================] - 1s 3ms/step - loss: 1.1634e-04 - accuracy: 1.0000 - val_loss: 0.0463 - val_accuracy: 0.9888\n",
      "Epoch 35/50\n",
      "469/469 [==============================] - 1s 3ms/step - loss: 0.0179 - accuracy: 0.9944 - val_loss: 0.0598 - val_accuracy: 0.9848\n",
      "Epoch 36/50\n",
      "469/469 [==============================] - 1s 3ms/step - loss: 0.0073 - accuracy: 0.9977 - val_loss: 0.0520 - val_accuracy: 0.9870\n",
      "Epoch 37/50\n",
      "469/469 [==============================] - 1s 3ms/step - loss: 0.0019 - accuracy: 0.9995 - val_loss: 0.0528 - val_accuracy: 0.9869\n",
      "Epoch 38/50\n",
      "469/469 [==============================] - 1s 3ms/step - loss: 8.9177e-04 - accuracy: 0.9998 - val_loss: 0.0489 - val_accuracy: 0.9880\n",
      "Epoch 39/50\n",
      "469/469 [==============================] - 1s 3ms/step - loss: 2.7218e-04 - accuracy: 1.0000 - val_loss: 0.0476 - val_accuracy: 0.9884\n",
      "Epoch 40/50\n",
      "469/469 [==============================] - 1s 3ms/step - loss: 1.6196e-04 - accuracy: 1.0000 - val_loss: 0.0475 - val_accuracy: 0.9882\n",
      "Epoch 41/50\n",
      "469/469 [==============================] - 1s 3ms/step - loss: 1.2325e-04 - accuracy: 1.0000 - val_loss: 0.0476 - val_accuracy: 0.9884\n",
      "Epoch 42/50\n",
      "469/469 [==============================] - 1s 3ms/step - loss: 1.0134e-04 - accuracy: 1.0000 - val_loss: 0.0482 - val_accuracy: 0.9884\n",
      "Epoch 43/50\n",
      "469/469 [==============================] - 1s 3ms/step - loss: 8.5202e-05 - accuracy: 1.0000 - val_loss: 0.0489 - val_accuracy: 0.9881\n",
      "Epoch 44/50\n",
      "469/469 [==============================] - 1s 3ms/step - loss: 7.1172e-05 - accuracy: 1.0000 - val_loss: 0.0487 - val_accuracy: 0.9884\n",
      "Epoch 45/50\n",
      "469/469 [==============================] - 1s 3ms/step - loss: 6.0538e-05 - accuracy: 1.0000 - val_loss: 0.0496 - val_accuracy: 0.9886\n",
      "Epoch 46/50\n",
      "469/469 [==============================] - 1s 3ms/step - loss: 5.0789e-05 - accuracy: 1.0000 - val_loss: 0.0500 - val_accuracy: 0.9882\n",
      "Epoch 47/50\n",
      "469/469 [==============================] - 1s 3ms/step - loss: 4.2530e-05 - accuracy: 1.0000 - val_loss: 0.0515 - val_accuracy: 0.9883\n",
      "Epoch 48/50\n",
      "469/469 [==============================] - 1s 3ms/step - loss: 3.5269e-05 - accuracy: 1.0000 - val_loss: 0.0494 - val_accuracy: 0.9886\n",
      "Epoch 49/50\n",
      "469/469 [==============================] - 1s 3ms/step - loss: 3.0577e-05 - accuracy: 1.0000 - val_loss: 0.0524 - val_accuracy: 0.9878\n",
      "Epoch 50/50\n",
      "469/469 [==============================] - 1s 3ms/step - loss: 2.3834e-05 - accuracy: 1.0000 - val_loss: 0.0523 - val_accuracy: 0.9883\n"
     ]
    }
   ],
   "source": [
    "# Define the LeNet-5 model\n",
    "model = models.Sequential([\n",
    "    layers.Input(shape=(28, 28, 1)),\n",
    "    layers.ZeroPadding2D(padding=(2, 2)),  # Pad the images to 32x32\n",
    "    layers.Conv2D(6, kernel_size=(5, 5), activation='tanh'),\n",
    "    layers.AveragePooling2D(pool_size=(2, 2), strides=(2, 2)),\n",
    "    layers.Conv2D(16, kernel_size=(5, 5), activation='tanh'),\n",
    "    layers.AveragePooling2D(pool_size=(2, 2), strides=(2, 2)),\n",
    "    layers.Conv2D(120, kernel_size=(5, 5), activation='tanh'),\n",
    "    layers.Flatten(),\n",
    "    layers.Dense(84, activation='tanh'),\n",
    "    layers.Dense(10, activation='softmax')\n",
    "])\n",
    "\n",
    "# Compile the model\n",
    "model.compile(optimizer='adam', loss='categorical_crossentropy', metrics=['accuracy'])\n",
    "\n",
    "# Train the model\n",
    "history = model.fit(X_train, y_train, epochs=50, batch_size=128, validation_data=(X_test, y_test))"
   ]
  },
  {
   "cell_type": "markdown",
   "id": "adda61fe",
   "metadata": {},
   "source": [
    "#### Model Evaluation"
   ]
  },
  {
   "cell_type": "code",
   "execution_count": 14,
   "id": "a89d4fbe",
   "metadata": {},
   "outputs": [
    {
     "data": {
      "image/png": "[encoded data removed]",
      "text/plain": [
       "<Figure size 864x288 with 2 Axes>"
      ]
     },
     "metadata": {
      "needs_background": "light"
     },
     "output_type": "display_data"
    }
   ],
   "source": [
    "plt.figure(figsize=(12, 4))\n",
    "plt.subplot(121)\n",
    "plt.plot(history.history['loss'], label='training')\n",
    "plt.plot(history.history['val_loss'], label='validation')\n",
    "plt.xlabel('epoch')\n",
    "plt.ylabel('loss')\n",
    "plt.legend()\n",
    "\n",
    "plt.subplot(122)\n",
    "plt.plot(history.history['accuracy'], label='training')\n",
    "plt.plot(history.history['val_accuracy'], label='validation')\n",
    "plt.xlabel('epoch')\n",
    "plt.ylabel('accuracy')\n",
    "plt.legend()\n",
    "\n",
    "plt.show()"
   ]
  },
  {
   "cell_type": "code",
   "execution_count": 15,
   "id": "186e2681",
   "metadata": {},
   "outputs": [
    {
     "name": "stdout",
     "output_type": "stream",
     "text": [
      "313/313 [==============================] - 0s 1ms/step - loss: 0.0523 - accuracy: 0.9883\n",
      "Test accuracy: 0.9883000254631042\n"
     ]
    }
   ],
   "source": [
    "# Evaluate the model\n",
    "test_loss, test_acc = model.evaluate(X_test, y_test)\n",
    "print(\"Test accuracy:\", test_acc)"
   ]
  },
  {
   "cell_type": "markdown",
   "id": "b5577649",
   "metadata": {},
   "source": [
    "A confusion matrix, also known as an error matrix, is a table used to describe the performance of a classification model on a set of data for which the true values are known. It is particularly useful for understanding the performance of a classifier in the context of multiclass classification problems.\n",
    "\n",
    "The confusion matrix is organized with rows representing the true (actual) classes and columns representing the predicted classes. Each cell in the matrix corresponds to the count of instances for which the true class (row) was predicted as the corresponding predicted class (column).\n",
    "\n",
    "For a binary classification problem, the confusion matrix has the following structure:\n",
    "\n",
    "\n",
    "|                 | Predicted Positive | Predicted Negative |\n",
    "|-----------------|--------------------|--------------------|\n",
    "| Actual Positive | True Positives (TP)| False Negatives (FN)|\n",
    "| Actual Negative | False Positives (FP)| True Negatives (TN) |\n",
    "\n",
    "\n",
    "Here, the terms are defined as follows:\n",
    "\n",
    "- **True Positives (TP):** The number of instances correctly predicted as positive (i.e., the classifier correctly identified the positive instances).\n",
    "\n",
    "- **True Negatives (TN):** The number of instances correctly predicted as negative (i.e., the classifier correctly identified the negative instances).\n",
    "\n",
    "- **False Positives (FP):** The number of instances predicted as positive but are actually negative (i.e., the classifier incorrectly identified positive instances).\n",
    "\n",
    "- **False Negatives (FN):** The number of instances predicted as negative but are actually positive (i.e., the classifier incorrectly identified negative instances).\n",
    "\n",
    "Confusion matrices can be easily extended to multiclass classification problems, with one row and one column for each class. Various performance metrics, such as accuracy, precision, recall, and F1-score, can be calculated from the values in the confusion matrix.\n"
   ]
  },
  {
   "cell_type": "code",
   "execution_count": 43,
   "id": "e556a72f",
   "metadata": {},
   "outputs": [
    {
     "data": {
      "image/png": "[encoded data removed]",
      "text/plain": [
       "<Figure size 576x576 with 2 Axes>"
      ]
     },
     "metadata": {
      "needs_background": "light"
     },
     "output_type": "display_data"
    }
   ],
   "source": [
    "y_true = np.argmax(y_test, axis=1)\n",
    "y_pred = np.argmax(model.predict(X_test), axis=1)\n",
    "\n",
    "plt.figure(figsize=(8, 8))\n",
    "\n",
    "sns.heatmap(confusion_matrix(y_true, y_pred), cmap='Blues', annot=True, fmt='d')\n",
    "plt.show()"
   ]
  },
  {
   "cell_type": "markdown",
   "id": "1e2e3117",
   "metadata": {},
   "source": [
    "Precision, recall, and F1-score are popular metrics used to evaluate the performance of classification algorithms, especially in the context of binary classification. Here are their formulas:\n",
    "\n",
    "1. **Precision:** Precision is the ratio of true positive predictions to the total positive predictions made by the classifier. It is also known as positive predictive value (PPV).\n",
    "\n",
    "$$Precision = \\frac{TP}{TP + FP}$$\n",
    "\n",
    "2. **Recall:** Recall is the ratio of true positive predictions to the total actual positive instances. It is also known as sensitivity, hit rate, or true positive rate (TPR).\n",
    "\n",
    "$$Recall = \\frac{TP}{TP + FN}$$\n",
    "\n",
    "3. **F1-score:** F1-score is the harmonic mean of precision and recall. It is used as a single metric that balances the trade-off between precision and recall. F1-score is especially useful when dealing with imbalanced datasets, where one class is significantly more frequent than the other.\n",
    "\n",
    "$$F1 = 2 \\times \\frac{Precision \\times Recall}{Precision + Recall}$$"
   ]
  },
  {
   "cell_type": "code",
   "execution_count": 44,
   "id": "fb6627c0",
   "metadata": {},
   "outputs": [
    {
     "name": "stdout",
     "output_type": "stream",
     "text": [
      "              precision    recall  f1-score   support\n",
      "\n",
      "           0       0.99      0.99      0.99       980\n",
      "           1       0.99      0.99      0.99      1135\n",
      "           2       0.99      0.99      0.99      1032\n",
      "           3       0.98      0.99      0.99      1010\n",
      "           4       0.99      0.99      0.99       982\n",
      "           5       0.99      0.99      0.99       892\n",
      "           6       0.99      0.99      0.99       958\n",
      "           7       0.99      0.98      0.99      1028\n",
      "           8       0.98      0.99      0.98       974\n",
      "           9       0.99      0.98      0.98      1009\n",
      "\n",
      "    accuracy                           0.99     10000\n",
      "   macro avg       0.99      0.99      0.99     10000\n",
      "weighted avg       0.99      0.99      0.99     10000\n",
      "\n"
     ]
    }
   ],
   "source": [
    "print(classification_report(y_true, y_pred))"
   ]
  }
 ],
 "metadata": {
  "kernelspec": {
   "display_name": "Python 3 (ipykernel)",
   "language": "python",
   "name": "python3"
  },
  "language_info": {
   "codemirror_mode": {
    "name": "ipython",
    "version": 3
   },
   "file_extension": ".py",
   "mimetype": "text/x-python",
   "name": "python",
   "nbconvert_exporter": "python",
   "pygments_lexer": "ipython3",
   "version": "3.11.3"
  }
 },
 "nbformat": 4,
 "nbformat_minor": 5
}
