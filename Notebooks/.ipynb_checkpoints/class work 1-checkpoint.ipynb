{
 "cells": [
  {
   "cell_type": "markdown",
   "id": "583067c9-8880-452e-b3b7-5da191f90754",
   "metadata": {},
   "source": [
    "<center><h2>Class Work 1</h2></center>\n",
    "<center>EECE-7269/8269</center>\n",
    "<center>Due: 03/12/2024</center>"
   ]
  },
  {
   "cell_type": "markdown",
   "id": "e02adc9e-6398-4288-89ce-fb7dbf658353",
   "metadata": {},
   "source": [
    "1. Show and explain with visualizataion how perceptron fails to model the XOR problem."
   ]
  },
  {
   "cell_type": "code",
   "execution_count": null,
   "id": "b912df90-122b-4812-862c-6e55f9689eae",
   "metadata": {},
   "outputs": [],
   "source": []
  },
  {
   "cell_type": "markdown",
   "id": "ca060b2c-2e73-4c6f-9218-d1519bde0b07",
   "metadata": {},
   "source": [
    "2. Use the MNIST dataset to train a NN to recognize handwritten digits. The NN should have the following configuration: Input Layer -> Hidden Layer (16 Neurons with Relu) -> Hidden Layer (32 Neurons with Relu) -> Hidden Layer (64 Neurons with Relu) -> Output Layer (Softmax). Evaluate the NN model with precision, recall and F1 metrics.  "
   ]
  },
  {
   "cell_type": "code",
   "execution_count": null,
   "id": "3c52ac5d-3bda-4882-a9d3-3a2abcd6aa1f",
   "metadata": {},
   "outputs": [],
   "source": []
  },
  {
   "cell_type": "markdown",
   "id": "cbebc4db-45e8-4f6c-b4e5-0a0a94fa1caa",
   "metadata": {},
   "source": [
    "3. Now, use a CNN to do the same task. The configuartion of the CNN is following: Input Layer -> Convolution (16 filters, kernel size 3x3) -> Convolution (24 filters, kernel size 3x3) -> Convolution (32 filters, kernel size 3x3) -> Convolution (64 filters, kernel size 3x3) -> Dense(32 Neurons) -> Dropout (0.5) -> Dense (16 Neurons) -> Output (Softmax). "
   ]
  },
  {
   "cell_type": "code",
   "execution_count": null,
   "id": "b7695bad-7647-4de0-9403-a57e217cc66a",
   "metadata": {},
   "outputs": [],
   "source": []
  }
 ],
 "metadata": {
  "kernelspec": {
   "display_name": "Python 3 (ipykernel)",
   "language": "python",
   "name": "python3"
  },
  "language_info": {
   "codemirror_mode": {
    "name": "ipython",
    "version": 3
   },
   "file_extension": ".py",
   "mimetype": "text/x-python",
   "name": "python",
   "nbconvert_exporter": "python",
   "pygments_lexer": "ipython3",
   "version": "3.11.3"
  }
 },
 "nbformat": 4,
 "nbformat_minor": 5
}
